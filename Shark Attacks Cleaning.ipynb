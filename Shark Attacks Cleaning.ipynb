{
 "cells": [
  {
   "cell_type": "code",
   "execution_count": 1,
   "id": "038bbfe7",
   "metadata": {},
   "outputs": [],
   "source": [
    "# SHARK ATTACKS DATA CLEANNING"
   ]
  },
  {
   "cell_type": "code",
   "execution_count": 2,
   "id": "b7790ec9",
   "metadata": {},
   "outputs": [
    {
     "name": "stdout",
     "output_type": "stream",
     "text": [
      "Requirement already satisfied: numpy in /usr/local/Caskroom/miniconda/base/envs/ironhack/lib/python3.8/site-packages (1.21.3)\n",
      "Requirement already satisfied: pandas in /usr/local/Caskroom/miniconda/base/envs/ironhack/lib/python3.8/site-packages (1.3.4)\n",
      "Requirement already satisfied: pytz>=2017.3 in /usr/local/Caskroom/miniconda/base/envs/ironhack/lib/python3.8/site-packages (from pandas) (2021.3)\n",
      "Requirement already satisfied: numpy>=1.17.3 in /usr/local/Caskroom/miniconda/base/envs/ironhack/lib/python3.8/site-packages (from pandas) (1.21.3)\n",
      "Requirement already satisfied: python-dateutil>=2.7.3 in /usr/local/Caskroom/miniconda/base/envs/ironhack/lib/python3.8/site-packages (from pandas) (2.8.2)\n",
      "Requirement already satisfied: six>=1.5 in /usr/local/Caskroom/miniconda/base/envs/ironhack/lib/python3.8/site-packages (from python-dateutil>=2.7.3->pandas) (1.16.0)\n"
     ]
    }
   ],
   "source": [
    "# IMPORT LIBRERY\n",
    "\n",
    "import numpy as np\n",
    "import pandas as pd\n",
    "import SRC.cleaning_functions as fc\n",
    "\n",
    "# PIP INSTALL\n",
    "\n",
    "!pip install numpy\n",
    "!pip install pandas"
   ]
  },
  {
   "cell_type": "code",
   "execution_count": 3,
   "id": "c305564e",
   "metadata": {},
   "outputs": [],
   "source": [
    "# LOADDING DATA\n",
    "\n",
    "df = pd.read_csv(\"Data/attacks.csv\",encoding = \"ISO-8859-1\")"
   ]
  },
  {
   "cell_type": "code",
   "execution_count": 4,
   "id": "dc18d943",
   "metadata": {},
   "outputs": [
    {
     "data": {
      "text/html": [
       "<div>\n",
       "<style scoped>\n",
       "    .dataframe tbody tr th:only-of-type {\n",
       "        vertical-align: middle;\n",
       "    }\n",
       "\n",
       "    .dataframe tbody tr th {\n",
       "        vertical-align: top;\n",
       "    }\n",
       "\n",
       "    .dataframe thead th {\n",
       "        text-align: right;\n",
       "    }\n",
       "</style>\n",
       "<table border=\"1\" class=\"dataframe\">\n",
       "  <thead>\n",
       "    <tr style=\"text-align: right;\">\n",
       "      <th></th>\n",
       "      <th>Case Number</th>\n",
       "      <th>Date</th>\n",
       "      <th>Year</th>\n",
       "      <th>Type</th>\n",
       "      <th>Country</th>\n",
       "      <th>Area</th>\n",
       "      <th>Location</th>\n",
       "      <th>Activity</th>\n",
       "      <th>Name</th>\n",
       "      <th>Sex</th>\n",
       "      <th>...</th>\n",
       "      <th>Species</th>\n",
       "      <th>Investigator or Source</th>\n",
       "      <th>pdf</th>\n",
       "      <th>href formula</th>\n",
       "      <th>href</th>\n",
       "      <th>Case Number.1</th>\n",
       "      <th>Case Number.2</th>\n",
       "      <th>original order</th>\n",
       "      <th>Unnamed: 22</th>\n",
       "      <th>Unnamed: 23</th>\n",
       "    </tr>\n",
       "  </thead>\n",
       "  <tbody>\n",
       "    <tr>\n",
       "      <th>0</th>\n",
       "      <td>2018.06.25</td>\n",
       "      <td>25-Jun-2018</td>\n",
       "      <td>2018.0</td>\n",
       "      <td>Boating</td>\n",
       "      <td>USA</td>\n",
       "      <td>California</td>\n",
       "      <td>Oceanside, San Diego County</td>\n",
       "      <td>Paddling</td>\n",
       "      <td>Julie Wolfe</td>\n",
       "      <td>F</td>\n",
       "      <td>...</td>\n",
       "      <td>White shark</td>\n",
       "      <td>R. Collier, GSAF</td>\n",
       "      <td>2018.06.25-Wolfe.pdf</td>\n",
       "      <td>http://sharkattackfile.net/spreadsheets/pdf_di...</td>\n",
       "      <td>http://sharkattackfile.net/spreadsheets/pdf_di...</td>\n",
       "      <td>2018.06.25</td>\n",
       "      <td>2018.06.25</td>\n",
       "      <td>6303.0</td>\n",
       "      <td>NaN</td>\n",
       "      <td>NaN</td>\n",
       "    </tr>\n",
       "    <tr>\n",
       "      <th>1</th>\n",
       "      <td>2018.06.18</td>\n",
       "      <td>18-Jun-2018</td>\n",
       "      <td>2018.0</td>\n",
       "      <td>Unprovoked</td>\n",
       "      <td>USA</td>\n",
       "      <td>Georgia</td>\n",
       "      <td>St. Simon Island, Glynn County</td>\n",
       "      <td>Standing</td>\n",
       "      <td>Adyson McNeely</td>\n",
       "      <td>F</td>\n",
       "      <td>...</td>\n",
       "      <td>NaN</td>\n",
       "      <td>K.McMurray, TrackingSharks.com</td>\n",
       "      <td>2018.06.18-McNeely.pdf</td>\n",
       "      <td>http://sharkattackfile.net/spreadsheets/pdf_di...</td>\n",
       "      <td>http://sharkattackfile.net/spreadsheets/pdf_di...</td>\n",
       "      <td>2018.06.18</td>\n",
       "      <td>2018.06.18</td>\n",
       "      <td>6302.0</td>\n",
       "      <td>NaN</td>\n",
       "      <td>NaN</td>\n",
       "    </tr>\n",
       "    <tr>\n",
       "      <th>2</th>\n",
       "      <td>2018.06.09</td>\n",
       "      <td>09-Jun-2018</td>\n",
       "      <td>2018.0</td>\n",
       "      <td>Invalid</td>\n",
       "      <td>USA</td>\n",
       "      <td>Hawaii</td>\n",
       "      <td>Habush, Oahu</td>\n",
       "      <td>Surfing</td>\n",
       "      <td>John Denges</td>\n",
       "      <td>M</td>\n",
       "      <td>...</td>\n",
       "      <td>NaN</td>\n",
       "      <td>K.McMurray, TrackingSharks.com</td>\n",
       "      <td>2018.06.09-Denges.pdf</td>\n",
       "      <td>http://sharkattackfile.net/spreadsheets/pdf_di...</td>\n",
       "      <td>http://sharkattackfile.net/spreadsheets/pdf_di...</td>\n",
       "      <td>2018.06.09</td>\n",
       "      <td>2018.06.09</td>\n",
       "      <td>6301.0</td>\n",
       "      <td>NaN</td>\n",
       "      <td>NaN</td>\n",
       "    </tr>\n",
       "  </tbody>\n",
       "</table>\n",
       "<p>3 rows × 24 columns</p>\n",
       "</div>"
      ],
      "text/plain": [
       "  Case Number         Date    Year        Type Country        Area  \\\n",
       "0  2018.06.25  25-Jun-2018  2018.0     Boating     USA  California   \n",
       "1  2018.06.18  18-Jun-2018  2018.0  Unprovoked     USA     Georgia   \n",
       "2  2018.06.09  09-Jun-2018  2018.0     Invalid     USA      Hawaii   \n",
       "\n",
       "                         Location  Activity             Name Sex   ...  \\\n",
       "0     Oceanside, San Diego County  Paddling      Julie Wolfe    F  ...   \n",
       "1  St. Simon Island, Glynn County  Standing  Adyson McNeely     F  ...   \n",
       "2                    Habush, Oahu   Surfing      John Denges    M  ...   \n",
       "\n",
       "      Species           Investigator or Source                     pdf  \\\n",
       "0  White shark                R. Collier, GSAF    2018.06.25-Wolfe.pdf   \n",
       "1          NaN  K.McMurray, TrackingSharks.com  2018.06.18-McNeely.pdf   \n",
       "2          NaN  K.McMurray, TrackingSharks.com   2018.06.09-Denges.pdf   \n",
       "\n",
       "                                        href formula  \\\n",
       "0  http://sharkattackfile.net/spreadsheets/pdf_di...   \n",
       "1  http://sharkattackfile.net/spreadsheets/pdf_di...   \n",
       "2  http://sharkattackfile.net/spreadsheets/pdf_di...   \n",
       "\n",
       "                                                href Case Number.1  \\\n",
       "0  http://sharkattackfile.net/spreadsheets/pdf_di...    2018.06.25   \n",
       "1  http://sharkattackfile.net/spreadsheets/pdf_di...    2018.06.18   \n",
       "2  http://sharkattackfile.net/spreadsheets/pdf_di...    2018.06.09   \n",
       "\n",
       "  Case Number.2 original order Unnamed: 22 Unnamed: 23  \n",
       "0    2018.06.25         6303.0         NaN         NaN  \n",
       "1    2018.06.18         6302.0         NaN         NaN  \n",
       "2    2018.06.09         6301.0         NaN         NaN  \n",
       "\n",
       "[3 rows x 24 columns]"
      ]
     },
     "metadata": {},
     "output_type": "display_data"
    }
   ],
   "source": [
    "# CHECKING HEAD\n",
    "\n",
    "display(df.head(3))"
   ]
  },
  {
   "cell_type": "code",
   "execution_count": 5,
   "id": "62bbce85",
   "metadata": {},
   "outputs": [
    {
     "data": {
      "text/plain": [
       "(25723, 24)"
      ]
     },
     "metadata": {},
     "output_type": "display_data"
    }
   ],
   "source": [
    "# CHECKING SHAPE\n",
    "\n",
    "display(df.shape)"
   ]
  },
  {
   "cell_type": "code",
   "execution_count": 6,
   "id": "ad9f254d",
   "metadata": {},
   "outputs": [],
   "source": [
    "# CLEANNING DATAFRAME POST DEFINITION OF HYPOTHESIS\n",
    "\n",
    "# LIST OF COLUMNS TO DROP\n",
    "\n",
    "column = [\"pdf\", \n",
    "          \"href\", \n",
    "          \"href formula\",\n",
    "          \"Unnamed: 22\",\n",
    "          \"Unnamed: 23\",\n",
    "          \"Type\",\n",
    "          \"Date\",\n",
    "          \"Name\",\n",
    "          \"Sex \",\n",
    "          \"Age\",\n",
    "          \"Injury\",\n",
    "          \"Area\",\n",
    "          \"Investigator or Source\",\n",
    "          \"Case Number.1\",\n",
    "          \"Case Number.2\",\n",
    "          \"original order\"]\n",
    "\n",
    "# DROP \n",
    "\n",
    "shark = df.drop(column,axis=1)"
   ]
  },
  {
   "cell_type": "code",
   "execution_count": 7,
   "id": "805c3396",
   "metadata": {},
   "outputs": [
    {
     "data": {
      "text/plain": [
       "Case Number    17021\n",
       "Year           19423\n",
       "Country        19471\n",
       "Location       19961\n",
       "Activity       19965\n",
       "Fatal (Y/N)    19960\n",
       "Time           22775\n",
       "Species        22259\n",
       "dtype: int64"
      ]
     },
     "metadata": {},
     "output_type": "display_data"
    }
   ],
   "source": [
    "# CHECKING Null\n",
    "\n",
    "display(shark.isnull().sum())"
   ]
  },
  {
   "cell_type": "code",
   "execution_count": 8,
   "id": "d94986f0",
   "metadata": {},
   "outputs": [
    {
     "data": {
      "text/html": [
       "<div>\n",
       "<style scoped>\n",
       "    .dataframe tbody tr th:only-of-type {\n",
       "        vertical-align: middle;\n",
       "    }\n",
       "\n",
       "    .dataframe tbody tr th {\n",
       "        vertical-align: top;\n",
       "    }\n",
       "\n",
       "    .dataframe thead th {\n",
       "        text-align: right;\n",
       "    }\n",
       "</style>\n",
       "<table border=\"1\" class=\"dataframe\">\n",
       "  <thead>\n",
       "    <tr style=\"text-align: right;\">\n",
       "      <th></th>\n",
       "      <th>Case Number</th>\n",
       "      <th>Year</th>\n",
       "      <th>Country</th>\n",
       "      <th>Location</th>\n",
       "      <th>Activity</th>\n",
       "      <th>Fatal (Y/N)</th>\n",
       "      <th>Time</th>\n",
       "      <th>Species</th>\n",
       "    </tr>\n",
       "  </thead>\n",
       "  <tbody>\n",
       "    <tr>\n",
       "      <th>0</th>\n",
       "      <td>2018.06.25</td>\n",
       "      <td>2018.0</td>\n",
       "      <td>USA</td>\n",
       "      <td>Oceanside, San Diego County</td>\n",
       "      <td>Paddling</td>\n",
       "      <td>N</td>\n",
       "      <td>18h00</td>\n",
       "      <td>White shark</td>\n",
       "    </tr>\n",
       "    <tr>\n",
       "      <th>1</th>\n",
       "      <td>2018.06.18</td>\n",
       "      <td>2018.0</td>\n",
       "      <td>USA</td>\n",
       "      <td>St. Simon Island, Glynn County</td>\n",
       "      <td>Standing</td>\n",
       "      <td>N</td>\n",
       "      <td>14h00  -15h00</td>\n",
       "      <td>NaN</td>\n",
       "    </tr>\n",
       "    <tr>\n",
       "      <th>2</th>\n",
       "      <td>2018.06.09</td>\n",
       "      <td>2018.0</td>\n",
       "      <td>USA</td>\n",
       "      <td>Habush, Oahu</td>\n",
       "      <td>Surfing</td>\n",
       "      <td>N</td>\n",
       "      <td>07h45</td>\n",
       "      <td>NaN</td>\n",
       "    </tr>\n",
       "  </tbody>\n",
       "</table>\n",
       "</div>"
      ],
      "text/plain": [
       "  Case Number    Year Country                        Location  Activity  \\\n",
       "0  2018.06.25  2018.0     USA     Oceanside, San Diego County  Paddling   \n",
       "1  2018.06.18  2018.0     USA  St. Simon Island, Glynn County  Standing   \n",
       "2  2018.06.09  2018.0     USA                    Habush, Oahu   Surfing   \n",
       "\n",
       "  Fatal (Y/N)           Time     Species   \n",
       "0           N          18h00  White shark  \n",
       "1           N  14h00  -15h00          NaN  \n",
       "2           N          07h45          NaN  "
      ]
     },
     "metadata": {},
     "output_type": "display_data"
    }
   ],
   "source": [
    "# CHECKING NEW DATAFRAME SHAPE\n",
    "\n",
    "display(shark.head(3))"
   ]
  },
  {
   "cell_type": "code",
   "execution_count": 9,
   "id": "67d577e6",
   "metadata": {},
   "outputs": [
    {
     "data": {
      "text/plain": [
       "(25723, 8)"
      ]
     },
     "metadata": {},
     "output_type": "display_data"
    }
   ],
   "source": [
    "# CHECKING SHAPE\n",
    "\n",
    "display(shark.shape)"
   ]
  },
  {
   "cell_type": "code",
   "execution_count": 10,
   "id": "cdbdc7eb",
   "metadata": {},
   "outputs": [
    {
     "data": {
      "text/html": [
       "<div>\n",
       "<style scoped>\n",
       "    .dataframe tbody tr th:only-of-type {\n",
       "        vertical-align: middle;\n",
       "    }\n",
       "\n",
       "    .dataframe tbody tr th {\n",
       "        vertical-align: top;\n",
       "    }\n",
       "\n",
       "    .dataframe thead th {\n",
       "        text-align: right;\n",
       "    }\n",
       "</style>\n",
       "<table border=\"1\" class=\"dataframe\">\n",
       "  <thead>\n",
       "    <tr style=\"text-align: right;\">\n",
       "      <th></th>\n",
       "      <th>Case Number</th>\n",
       "      <th>Year</th>\n",
       "      <th>Country</th>\n",
       "      <th>Location</th>\n",
       "      <th>Activity</th>\n",
       "      <th>Fatal (Y/N)</th>\n",
       "      <th>Time</th>\n",
       "      <th>Species</th>\n",
       "    </tr>\n",
       "  </thead>\n",
       "  <tbody>\n",
       "    <tr>\n",
       "      <th>0</th>\n",
       "      <td>2018.06.25</td>\n",
       "      <td>2018.0</td>\n",
       "      <td>USA</td>\n",
       "      <td>Oceanside, San Diego County</td>\n",
       "      <td>Paddling</td>\n",
       "      <td>N</td>\n",
       "      <td>18h00</td>\n",
       "      <td>White shark</td>\n",
       "    </tr>\n",
       "    <tr>\n",
       "      <th>1</th>\n",
       "      <td>2018.06.18</td>\n",
       "      <td>2018.0</td>\n",
       "      <td>USA</td>\n",
       "      <td>St. Simon Island, Glynn County</td>\n",
       "      <td>Standing</td>\n",
       "      <td>N</td>\n",
       "      <td>14h00  -15h00</td>\n",
       "      <td>NaN</td>\n",
       "    </tr>\n",
       "    <tr>\n",
       "      <th>2</th>\n",
       "      <td>2018.06.09</td>\n",
       "      <td>2018.0</td>\n",
       "      <td>USA</td>\n",
       "      <td>Habush, Oahu</td>\n",
       "      <td>Surfing</td>\n",
       "      <td>N</td>\n",
       "      <td>07h45</td>\n",
       "      <td>NaN</td>\n",
       "    </tr>\n",
       "    <tr>\n",
       "      <th>3</th>\n",
       "      <td>2018.06.08</td>\n",
       "      <td>2018.0</td>\n",
       "      <td>AUSTRALIA</td>\n",
       "      <td>Arrawarra Headland</td>\n",
       "      <td>Surfing</td>\n",
       "      <td>N</td>\n",
       "      <td>NaN</td>\n",
       "      <td>2 m shark</td>\n",
       "    </tr>\n",
       "    <tr>\n",
       "      <th>4</th>\n",
       "      <td>2018.06.04</td>\n",
       "      <td>2018.0</td>\n",
       "      <td>MEXICO</td>\n",
       "      <td>La Ticla</td>\n",
       "      <td>Free diving</td>\n",
       "      <td>N</td>\n",
       "      <td>NaN</td>\n",
       "      <td>Tiger shark, 3m</td>\n",
       "    </tr>\n",
       "    <tr>\n",
       "      <th>...</th>\n",
       "      <td>...</td>\n",
       "      <td>...</td>\n",
       "      <td>...</td>\n",
       "      <td>...</td>\n",
       "      <td>...</td>\n",
       "      <td>...</td>\n",
       "      <td>...</td>\n",
       "      <td>...</td>\n",
       "    </tr>\n",
       "    <tr>\n",
       "      <th>6297</th>\n",
       "      <td>ND.0005</td>\n",
       "      <td>0.0</td>\n",
       "      <td>AUSTRALIA</td>\n",
       "      <td>Roebuck Bay</td>\n",
       "      <td>Diving</td>\n",
       "      <td>Y</td>\n",
       "      <td>NaN</td>\n",
       "      <td>NaN</td>\n",
       "    </tr>\n",
       "    <tr>\n",
       "      <th>6298</th>\n",
       "      <td>ND.0004</td>\n",
       "      <td>0.0</td>\n",
       "      <td>AUSTRALIA</td>\n",
       "      <td>NaN</td>\n",
       "      <td>Pearl diving</td>\n",
       "      <td>Y</td>\n",
       "      <td>NaN</td>\n",
       "      <td>NaN</td>\n",
       "    </tr>\n",
       "    <tr>\n",
       "      <th>6299</th>\n",
       "      <td>ND.0003</td>\n",
       "      <td>0.0</td>\n",
       "      <td>USA</td>\n",
       "      <td>Ocracoke Inlet</td>\n",
       "      <td>Swimming</td>\n",
       "      <td>Y</td>\n",
       "      <td>NaN</td>\n",
       "      <td>NaN</td>\n",
       "    </tr>\n",
       "    <tr>\n",
       "      <th>6300</th>\n",
       "      <td>ND.0002</td>\n",
       "      <td>0.0</td>\n",
       "      <td>PANAMA</td>\n",
       "      <td>Panama Bay 8ºN, 79ºW</td>\n",
       "      <td>NaN</td>\n",
       "      <td>Y</td>\n",
       "      <td>NaN</td>\n",
       "      <td>NaN</td>\n",
       "    </tr>\n",
       "    <tr>\n",
       "      <th>6301</th>\n",
       "      <td>ND.0001</td>\n",
       "      <td>0.0</td>\n",
       "      <td>CEYLON (SRI LANKA)</td>\n",
       "      <td>Below the English fort, Trincomalee</td>\n",
       "      <td>Swimming</td>\n",
       "      <td>Y</td>\n",
       "      <td>NaN</td>\n",
       "      <td>NaN</td>\n",
       "    </tr>\n",
       "  </tbody>\n",
       "</table>\n",
       "<p>6292 rows × 8 columns</p>\n",
       "</div>"
      ],
      "text/plain": [
       "     Case Number    Year             Country  \\\n",
       "0     2018.06.25  2018.0                 USA   \n",
       "1     2018.06.18  2018.0                 USA   \n",
       "2     2018.06.09  2018.0                 USA   \n",
       "3     2018.06.08  2018.0           AUSTRALIA   \n",
       "4     2018.06.04  2018.0              MEXICO   \n",
       "...          ...     ...                 ...   \n",
       "6297     ND.0005     0.0           AUSTRALIA   \n",
       "6298     ND.0004     0.0           AUSTRALIA   \n",
       "6299     ND.0003     0.0                 USA   \n",
       "6300     ND.0002     0.0              PANAMA   \n",
       "6301     ND.0001     0.0  CEYLON (SRI LANKA)   \n",
       "\n",
       "                                 Location      Activity Fatal (Y/N)  \\\n",
       "0             Oceanside, San Diego County      Paddling           N   \n",
       "1          St. Simon Island, Glynn County      Standing           N   \n",
       "2                            Habush, Oahu       Surfing           N   \n",
       "3                      Arrawarra Headland       Surfing           N   \n",
       "4                                La Ticla   Free diving           N   \n",
       "...                                   ...           ...         ...   \n",
       "6297                          Roebuck Bay        Diving           Y   \n",
       "6298                                  NaN  Pearl diving           Y   \n",
       "6299                       Ocracoke Inlet      Swimming           Y   \n",
       "6300                 Panama Bay 8ºN, 79ºW           NaN           Y   \n",
       "6301  Below the English fort, Trincomalee      Swimming           Y   \n",
       "\n",
       "               Time         Species   \n",
       "0             18h00      White shark  \n",
       "1     14h00  -15h00              NaN  \n",
       "2             07h45              NaN  \n",
       "3               NaN        2 m shark  \n",
       "4               NaN  Tiger shark, 3m  \n",
       "...             ...              ...  \n",
       "6297            NaN              NaN  \n",
       "6298            NaN              NaN  \n",
       "6299            NaN              NaN  \n",
       "6300            NaN              NaN  \n",
       "6301            NaN              NaN  \n",
       "\n",
       "[6292 rows x 8 columns]"
      ]
     },
     "metadata": {},
     "output_type": "display_data"
    }
   ],
   "source": [
    "# ERASE ALL THE ROWS WITH NaN >= 4\n",
    "\n",
    "display(shark.dropna(thresh=4))"
   ]
  },
  {
   "cell_type": "code",
   "execution_count": 11,
   "id": "9dc5135d",
   "metadata": {},
   "outputs": [
    {
     "data": {
      "text/plain": [
       "19435"
      ]
     },
     "metadata": {},
     "output_type": "display_data"
    }
   ],
   "source": [
    "# CHECKING 'Case Number' DUPLICATES, SINCE IS THE ONLY ONE THAT CAN NOT HAVE DUPLICATES.\n",
    "\n",
    "display(shark['Case Number'].duplicated().sum())"
   ]
  },
  {
   "cell_type": "code",
   "execution_count": 12,
   "id": "8939bf7f",
   "metadata": {},
   "outputs": [],
   "source": [
    "# MAKING A LIST WITH THE \"Case Numbers\" DUPLICATES TO KNOW THEM.\n",
    "\n",
    "dup = shark[shark['Case Number'].duplicated(keep='last')]['Case Number'].tolist()"
   ]
  },
  {
   "cell_type": "code",
   "execution_count": 13,
   "id": "24fa4f0f",
   "metadata": {},
   "outputs": [
    {
     "name": "stdout",
     "output_type": "stream",
     "text": [
      "['2014.08.02', '2013.10.05', '2012.09.02.b', '2009.12.18', '2006.09.02', '2005.04.06', '1990.05.10', '1983.06.15', '1980.07.00', '1966.12.26']\n"
     ]
    }
   ],
   "source": [
    "# THE LAST 10 ITEMS OF THE LIST ARE THE ONES THAT WE WANT TO ERASE\n",
    "\n",
    "print(dup[0:10])"
   ]
  },
  {
   "cell_type": "code",
   "execution_count": 14,
   "id": "767d93b1",
   "metadata": {},
   "outputs": [],
   "source": [
    "# CREATE A SET TO CHECK AGAINST THE DF.SHARK\n",
    "\n",
    "set_dup = set(dup)"
   ]
  },
  {
   "cell_type": "code",
   "execution_count": 15,
   "id": "9b8fba6c",
   "metadata": {},
   "outputs": [],
   "source": [
    "# CREATE A FOR LOOP SO THAT WE CAN ENSURE DUPLICATES HAD THE SAME INFORMATION\n",
    "\n",
    "for r in set_dup:\n",
    "        dup = shark[shark['Case Number'] == r]\n",
    "\n",
    "shark.loc[dup.iloc[1,:].name, 'Case Number'] = shark.loc[dup.iloc[1,:].name]['Case Number'] + 'z'"
   ]
  },
  {
   "cell_type": "code",
   "execution_count": 16,
   "id": "dfe3fce8",
   "metadata": {},
   "outputs": [
    {
     "data": {
      "text/plain": [
       "19417"
      ]
     },
     "metadata": {},
     "output_type": "display_data"
    }
   ],
   "source": [
    "# THERE SHOULD BE NO DUPLICATES\n",
    "\n",
    "display(shark.duplicated().sum())"
   ]
  },
  {
   "cell_type": "code",
   "execution_count": 65,
   "id": "34ba13dd",
   "metadata": {},
   "outputs": [
    {
     "data": {
      "text/html": [
       "<div>\n",
       "<style scoped>\n",
       "    .dataframe tbody tr th:only-of-type {\n",
       "        vertical-align: middle;\n",
       "    }\n",
       "\n",
       "    .dataframe tbody tr th {\n",
       "        vertical-align: top;\n",
       "    }\n",
       "\n",
       "    .dataframe thead th {\n",
       "        text-align: right;\n",
       "    }\n",
       "</style>\n",
       "<table border=\"1\" class=\"dataframe\">\n",
       "  <thead>\n",
       "    <tr style=\"text-align: right;\">\n",
       "      <th></th>\n",
       "      <th>Case Number</th>\n",
       "      <th>Year</th>\n",
       "      <th>Country</th>\n",
       "      <th>Location</th>\n",
       "      <th>Activity</th>\n",
       "      <th>Fatal (Y/N)</th>\n",
       "      <th>Time</th>\n",
       "      <th>Species</th>\n",
       "    </tr>\n",
       "  </thead>\n",
       "  <tbody>\n",
       "    <tr>\n",
       "      <th>0</th>\n",
       "      <td>2018.06.25</td>\n",
       "      <td>2018.0</td>\n",
       "      <td>USA</td>\n",
       "      <td>Oceanside, San Diego County</td>\n",
       "      <td>Paddling</td>\n",
       "      <td>N</td>\n",
       "      <td>18h00</td>\n",
       "      <td>White shark</td>\n",
       "    </tr>\n",
       "    <tr>\n",
       "      <th>1</th>\n",
       "      <td>2018.06.18</td>\n",
       "      <td>2018.0</td>\n",
       "      <td>USA</td>\n",
       "      <td>St. Simon Island, Glynn County</td>\n",
       "      <td>Standing</td>\n",
       "      <td>N</td>\n",
       "      <td>14h00  -15h00</td>\n",
       "      <td>NaN</td>\n",
       "    </tr>\n",
       "    <tr>\n",
       "      <th>2</th>\n",
       "      <td>2018.06.09</td>\n",
       "      <td>2018.0</td>\n",
       "      <td>USA</td>\n",
       "      <td>Habush, Oahu</td>\n",
       "      <td>Surfing</td>\n",
       "      <td>N</td>\n",
       "      <td>07h45</td>\n",
       "      <td>NaN</td>\n",
       "    </tr>\n",
       "  </tbody>\n",
       "</table>\n",
       "</div>"
      ],
      "text/plain": [
       "  Case Number    Year Country                        Location  Activity  \\\n",
       "0  2018.06.25  2018.0     USA     Oceanside, San Diego County  Paddling   \n",
       "1  2018.06.18  2018.0     USA  St. Simon Island, Glynn County  Standing   \n",
       "2  2018.06.09  2018.0     USA                    Habush, Oahu   Surfing   \n",
       "\n",
       "  Fatal (Y/N)           Time     Species   \n",
       "0           N          18h00  White shark  \n",
       "1           N  14h00  -15h00          NaN  \n",
       "2           N          07h45          NaN  "
      ]
     },
     "metadata": {},
     "output_type": "display_data"
    }
   ],
   "source": [
    "# CHECKING INFO\n",
    "\n",
    "display(shark.head(3))"
   ]
  },
  {
   "cell_type": "code",
   "execution_count": 18,
   "id": "96389f32",
   "metadata": {},
   "outputs": [],
   "source": [
    "# CREATING THE FINAL DATAFRAME, ERASING THE ROWS WITH >= 4 NaN\n",
    "\n",
    "new_shark = shark.dropna(thresh=4)"
   ]
  },
  {
   "cell_type": "code",
   "execution_count": 66,
   "id": "990de451",
   "metadata": {},
   "outputs": [
    {
     "data": {
      "text/html": [
       "<div>\n",
       "<style scoped>\n",
       "    .dataframe tbody tr th:only-of-type {\n",
       "        vertical-align: middle;\n",
       "    }\n",
       "\n",
       "    .dataframe tbody tr th {\n",
       "        vertical-align: top;\n",
       "    }\n",
       "\n",
       "    .dataframe thead th {\n",
       "        text-align: right;\n",
       "    }\n",
       "</style>\n",
       "<table border=\"1\" class=\"dataframe\">\n",
       "  <thead>\n",
       "    <tr style=\"text-align: right;\">\n",
       "      <th></th>\n",
       "      <th>Case Number</th>\n",
       "      <th>Year</th>\n",
       "      <th>Country</th>\n",
       "      <th>Location</th>\n",
       "      <th>Activity</th>\n",
       "      <th>Fatal (Y/N)</th>\n",
       "      <th>Time</th>\n",
       "      <th>Species</th>\n",
       "    </tr>\n",
       "  </thead>\n",
       "  <tbody>\n",
       "    <tr>\n",
       "      <th>0</th>\n",
       "      <td>2018.06.25</td>\n",
       "      <td>2018.0</td>\n",
       "      <td>USA</td>\n",
       "      <td>Oceanside, San Diego County</td>\n",
       "      <td>Paddling</td>\n",
       "      <td>N</td>\n",
       "      <td>18h00</td>\n",
       "      <td>White shark</td>\n",
       "    </tr>\n",
       "    <tr>\n",
       "      <th>1</th>\n",
       "      <td>2018.06.18</td>\n",
       "      <td>2018.0</td>\n",
       "      <td>USA</td>\n",
       "      <td>St. Simon Island, Glynn County</td>\n",
       "      <td>Standing</td>\n",
       "      <td>N</td>\n",
       "      <td>14h00  -15h00</td>\n",
       "      <td>NaN</td>\n",
       "    </tr>\n",
       "    <tr>\n",
       "      <th>2</th>\n",
       "      <td>2018.06.09</td>\n",
       "      <td>2018.0</td>\n",
       "      <td>USA</td>\n",
       "      <td>Habush, Oahu</td>\n",
       "      <td>Surfing</td>\n",
       "      <td>N</td>\n",
       "      <td>07h45</td>\n",
       "      <td>NaN</td>\n",
       "    </tr>\n",
       "  </tbody>\n",
       "</table>\n",
       "</div>"
      ],
      "text/plain": [
       "  Case Number    Year Country                        Location  Activity  \\\n",
       "0  2018.06.25  2018.0     USA     Oceanside, San Diego County  Paddling   \n",
       "1  2018.06.18  2018.0     USA  St. Simon Island, Glynn County  Standing   \n",
       "2  2018.06.09  2018.0     USA                    Habush, Oahu   Surfing   \n",
       "\n",
       "  Fatal (Y/N)           Time     Species   \n",
       "0           N          18h00  White shark  \n",
       "1           N  14h00  -15h00          NaN  \n",
       "2           N          07h45          NaN  "
      ]
     },
     "metadata": {},
     "output_type": "display_data"
    }
   ],
   "source": [
    "# CHECKING INFO\n",
    "\n",
    "display(new_shark.head(3))"
   ]
  },
  {
   "cell_type": "code",
   "execution_count": 20,
   "id": "9f6c065b",
   "metadata": {},
   "outputs": [],
   "source": [
    "# ERASE [\"Case Number\"] SINCE THERE ARE NO MORE DUPLICATES ALSO \"LOCATION\" AND \"YEAR\" SINCE I DON´T NEED THEM\n",
    "# CREATING A NEW DF \"SHARKY\"\n",
    "\n",
    "column_2 = [\"Case Number\",\"Location\",\"Year\"]\n",
    "sharky = new_shark.drop(column_2,axis=1)"
   ]
  },
  {
   "cell_type": "code",
   "execution_count": 67,
   "id": "5c58c13f",
   "metadata": {},
   "outputs": [
    {
     "data": {
      "text/html": [
       "<div>\n",
       "<style scoped>\n",
       "    .dataframe tbody tr th:only-of-type {\n",
       "        vertical-align: middle;\n",
       "    }\n",
       "\n",
       "    .dataframe tbody tr th {\n",
       "        vertical-align: top;\n",
       "    }\n",
       "\n",
       "    .dataframe thead th {\n",
       "        text-align: right;\n",
       "    }\n",
       "</style>\n",
       "<table border=\"1\" class=\"dataframe\">\n",
       "  <thead>\n",
       "    <tr style=\"text-align: right;\">\n",
       "      <th></th>\n",
       "      <th>Country</th>\n",
       "      <th>Activity</th>\n",
       "      <th>Fatal (Y/N)</th>\n",
       "      <th>Time</th>\n",
       "      <th>Species</th>\n",
       "      <th>Activity_merged</th>\n",
       "      <th>Species_merged</th>\n",
       "      <th>Time_merged</th>\n",
       "    </tr>\n",
       "  </thead>\n",
       "  <tbody>\n",
       "    <tr>\n",
       "      <th>0</th>\n",
       "      <td>USA</td>\n",
       "      <td>Paddling</td>\n",
       "      <td>N</td>\n",
       "      <td>18h00</td>\n",
       "      <td>White shark</td>\n",
       "      <td>Surfing</td>\n",
       "      <td>White shark</td>\n",
       "      <td>Afternoon</td>\n",
       "    </tr>\n",
       "    <tr>\n",
       "      <th>1</th>\n",
       "      <td>USA</td>\n",
       "      <td>Standing</td>\n",
       "      <td>N</td>\n",
       "      <td>14h00  -15h00</td>\n",
       "      <td>UNKNOWN</td>\n",
       "      <td>Unknown</td>\n",
       "      <td>Unknown</td>\n",
       "      <td>Noon</td>\n",
       "    </tr>\n",
       "    <tr>\n",
       "      <th>2</th>\n",
       "      <td>USA</td>\n",
       "      <td>Surfing</td>\n",
       "      <td>N</td>\n",
       "      <td>07h45</td>\n",
       "      <td>UNKNOWN</td>\n",
       "      <td>Surfing</td>\n",
       "      <td>Unknown</td>\n",
       "      <td>Sunrise</td>\n",
       "    </tr>\n",
       "  </tbody>\n",
       "</table>\n",
       "</div>"
      ],
      "text/plain": [
       "  Country  Activity Fatal (Y/N)           Time     Species  Activity_merged  \\\n",
       "0     USA  Paddling           N          18h00  White shark         Surfing   \n",
       "1     USA  Standing           N  14h00  -15h00      UNKNOWN         Unknown   \n",
       "2     USA   Surfing           N          07h45      UNKNOWN         Surfing   \n",
       "\n",
       "  Species_merged Time_merged  \n",
       "0    White shark   Afternoon  \n",
       "1        Unknown        Noon  \n",
       "2        Unknown     Sunrise  "
      ]
     },
     "metadata": {},
     "output_type": "display_data"
    }
   ],
   "source": [
    "# CHECKING THE NEW DATAFRAME\n",
    "\n",
    "display(sharky.head(3))"
   ]
  },
  {
   "cell_type": "code",
   "execution_count": 22,
   "id": "2a03a25a",
   "metadata": {},
   "outputs": [],
   "source": [
    "# FILLING NaN WITH A \"Unknown\"\n",
    "\n",
    "sharky = sharky.fillna(\"UNKNOWN\")"
   ]
  },
  {
   "cell_type": "code",
   "execution_count": 68,
   "id": "3e906fcf",
   "metadata": {},
   "outputs": [
    {
     "data": {
      "text/html": [
       "<div>\n",
       "<style scoped>\n",
       "    .dataframe tbody tr th:only-of-type {\n",
       "        vertical-align: middle;\n",
       "    }\n",
       "\n",
       "    .dataframe tbody tr th {\n",
       "        vertical-align: top;\n",
       "    }\n",
       "\n",
       "    .dataframe thead th {\n",
       "        text-align: right;\n",
       "    }\n",
       "</style>\n",
       "<table border=\"1\" class=\"dataframe\">\n",
       "  <thead>\n",
       "    <tr style=\"text-align: right;\">\n",
       "      <th></th>\n",
       "      <th>Country</th>\n",
       "      <th>Activity</th>\n",
       "      <th>Fatal (Y/N)</th>\n",
       "      <th>Time</th>\n",
       "      <th>Species</th>\n",
       "      <th>Activity_merged</th>\n",
       "      <th>Species_merged</th>\n",
       "      <th>Time_merged</th>\n",
       "    </tr>\n",
       "  </thead>\n",
       "  <tbody>\n",
       "    <tr>\n",
       "      <th>0</th>\n",
       "      <td>USA</td>\n",
       "      <td>Paddling</td>\n",
       "      <td>N</td>\n",
       "      <td>18h00</td>\n",
       "      <td>White shark</td>\n",
       "      <td>Surfing</td>\n",
       "      <td>White shark</td>\n",
       "      <td>Afternoon</td>\n",
       "    </tr>\n",
       "    <tr>\n",
       "      <th>1</th>\n",
       "      <td>USA</td>\n",
       "      <td>Standing</td>\n",
       "      <td>N</td>\n",
       "      <td>14h00  -15h00</td>\n",
       "      <td>UNKNOWN</td>\n",
       "      <td>Unknown</td>\n",
       "      <td>Unknown</td>\n",
       "      <td>Noon</td>\n",
       "    </tr>\n",
       "    <tr>\n",
       "      <th>2</th>\n",
       "      <td>USA</td>\n",
       "      <td>Surfing</td>\n",
       "      <td>N</td>\n",
       "      <td>07h45</td>\n",
       "      <td>UNKNOWN</td>\n",
       "      <td>Surfing</td>\n",
       "      <td>Unknown</td>\n",
       "      <td>Sunrise</td>\n",
       "    </tr>\n",
       "  </tbody>\n",
       "</table>\n",
       "</div>"
      ],
      "text/plain": [
       "  Country  Activity Fatal (Y/N)           Time     Species  Activity_merged  \\\n",
       "0     USA  Paddling           N          18h00  White shark         Surfing   \n",
       "1     USA  Standing           N  14h00  -15h00      UNKNOWN         Unknown   \n",
       "2     USA   Surfing           N          07h45      UNKNOWN         Surfing   \n",
       "\n",
       "  Species_merged Time_merged  \n",
       "0    White shark   Afternoon  \n",
       "1        Unknown        Noon  \n",
       "2        Unknown     Sunrise  "
      ]
     },
     "metadata": {},
     "output_type": "display_data"
    }
   ],
   "source": [
    "# CHECKING THE NEW DATAFRAME WITH UNKNOWN\n",
    "\n",
    "display(sharky.head(3))"
   ]
  },
  {
   "cell_type": "code",
   "execution_count": 24,
   "id": "258d1dbd",
   "metadata": {},
   "outputs": [],
   "source": [
    "# MAKING A LIST UNIQUE FOR \"COUNTRY\"\n",
    "\n",
    "countries = list(sharky['Country'].unique())"
   ]
  },
  {
   "cell_type": "code",
   "execution_count": 25,
   "id": "96079920",
   "metadata": {},
   "outputs": [
    {
     "data": {
      "text/plain": [
       "USA                      2228\n",
       "AUSTRALIA                1337\n",
       "SOUTH AFRICA              579\n",
       "PAPUA NEW GUINEA          134\n",
       "NEW ZEALAND               128\n",
       "                         ... \n",
       "THE BALKANS                 1\n",
       "NORTH ATLANTIC OCEAN        1\n",
       "MAYOTTE                     1\n",
       "GABON                       1\n",
       "CEYLON (SRI LANKA)          1\n",
       "Name: Country, Length: 212, dtype: int64"
      ]
     },
     "metadata": {},
     "output_type": "display_data"
    }
   ],
   "source": [
    "# CHECKING THE AMOUNT PER \"COUNTRY\"\n",
    "\n",
    "display(sharky.Country.value_counts())"
   ]
  },
  {
   "cell_type": "code",
   "execution_count": 69,
   "id": "0547c9f9",
   "metadata": {},
   "outputs": [],
   "source": [
    "# CHECKING VALUES AND SYNTAX PER \"COUNTRY\"\n",
    "\n",
    "# print(countries)"
   ]
  },
  {
   "cell_type": "code",
   "execution_count": 27,
   "id": "4e0ae601",
   "metadata": {},
   "outputs": [],
   "source": [
    "# REDUCE COUNTRIES TO BETTER VISUALIZE THE PLOTS\n",
    "\n",
    "sharky['Country'].replace({\n",
    "'MEXICO  ' : 'MEXICO',\n",
    "'MALDIVE ISLANDS':'MALDIVES',\n",
    "' ':'DESCONOCIDO ',\n",
    "'WESTERN SAMOA':'SAMOA',\n",
    "'AMERICAN SAMOA':'SAMOA',\n",
    "'SOLOMON ISLANDS / VANUATU':'SOLOMON ISLANDS',\n",
    "'EGYPT / ISRAEL':'',\n",
    "'EGYPT  ':'EGYPT ',\n",
    "'REUNION' : 'REUNION ISLAND',\n",
    "' PHILIPPINES':'PHILIPPINES',\n",
    "'SOUTH CHINA SEA':'CHINA',\n",
    "'Fiji' : 'FIJI',\n",
    "'ITALY / CROATIA' : 'ITALY',\n",
    "'NORTH ATLANTIC OCEAN' : 'ATLANTIC OCEAN',\n",
    "'MID ATLANTIC OCEAN' : 'ATLANTIC OCEAN',\n",
    "'SOUTH ATLANTIC OCEAN' : 'ATLANTIC OCEAN',\n",
    "'NORTH ATLANTIC OCEAN ' : 'ATLANTIC OCEAN',\n",
    "'EGYPT / ISRAEL' : 'ISRAEL',\n",
    "'DIEGO GARCIA' : 'UNKONOWN',\n",
    "'Seychelles' : 'SEYCHELLES',\n",
    "' TONGA' : 'TONGA',\n",
    "'YEMEN ' : 'YEMEN',\n",
    "'Sierra Leone' : 'SIERRA LEONE',\n",
    "'RED SEA / INDIAN OCEAN' : 'INDIA',\n",
    "'INDIAN OCEAN' : 'INDIA',\n",
    "'INDIAN OCEAN?' : 'INDIA',\n",
    "'Between PORTUGAL & INDIA' : 'INDIA',\n",
    "'FEDERATED STATES OF MICRONESIA' : 'MICRONESIA',\n",
    "'IRAN / IRAQ' : 'IRAN',\n",
    "'ANDAMAN / NICOBAR ISLANDAS' : 'ANDAMAN ISLANDS',\n",
    "    \n",
    "},inplace=True)"
   ]
  },
  {
   "cell_type": "code",
   "execution_count": 70,
   "id": "eb369d12",
   "metadata": {},
   "outputs": [],
   "source": [
    "# CHECKING THE AMOUNT PER \"COUNTRY\" NEW\n",
    "\n",
    "# display(sharky.Country.value_counts())"
   ]
  },
  {
   "cell_type": "code",
   "execution_count": 29,
   "id": "fe1bb95e",
   "metadata": {},
   "outputs": [],
   "source": [
    "# MAKING A LIST UNIQUE FOR \"ACTIVITY\"\n",
    "\n",
    "activities = list(sharky['Activity'].unique())"
   ]
  },
  {
   "cell_type": "code",
   "execution_count": 71,
   "id": "e13f3684",
   "metadata": {},
   "outputs": [],
   "source": [
    "# CHECKING THE AMOUNT PER \"ACTIVITY\"\n",
    "\n",
    "# display(sharky.Activity.value_counts())"
   ]
  },
  {
   "cell_type": "code",
   "execution_count": 64,
   "id": "631fe2a9",
   "metadata": {},
   "outputs": [],
   "source": [
    "# CHECKING VALUES AND SYNTAX FOR \"ACTIVITY\"\n",
    "\n",
    "# print(activities)"
   ]
  },
  {
   "cell_type": "code",
   "execution_count": 32,
   "id": "c110438f",
   "metadata": {},
   "outputs": [],
   "source": [
    "# MAKING A LIST UNIQUE FOR \"FATALS\"\n",
    "\n",
    "fatals = list(sharky['Fatal (Y/N)'].unique())"
   ]
  },
  {
   "cell_type": "code",
   "execution_count": 72,
   "id": "a552b912",
   "metadata": {},
   "outputs": [],
   "source": [
    "# CHECKING THE AMOUNT PER \"FATAL (Y/N)\"\n",
    "\n",
    "# display(sharky['Fatal (Y/N)'].value_counts())"
   ]
  },
  {
   "cell_type": "code",
   "execution_count": 34,
   "id": "70a794d2",
   "metadata": {},
   "outputs": [
    {
     "name": "stdout",
     "output_type": "stream",
     "text": [
      "['N', 'Y', 'UNKNOWN', 'M', '2017', ' N', 'N ', 'y']\n"
     ]
    }
   ],
   "source": [
    "# CHECKING VALUES AND SYNTAX FOR \"FATALS\"\n",
    "\n",
    "print(fatals)"
   ]
  },
  {
   "cell_type": "code",
   "execution_count": 35,
   "id": "a0e000aa",
   "metadata": {},
   "outputs": [],
   "source": [
    "# REDUCE FATLA TO BETTER VISUALIZE THE PLOTS\n",
    "\n",
    "sharky['Fatal (Y/N)'].replace({' ':'UNKNOWN','M':'UNKNOWN','2017':'UNKNOWN',' N':'N','N ':'N','y':'Y'},inplace=True)"
   ]
  },
  {
   "cell_type": "code",
   "execution_count": 36,
   "id": "f363437d",
   "metadata": {},
   "outputs": [
    {
     "data": {
      "text/plain": [
       "N          4298\n",
       "Y          1388\n",
       "UNKNOWN     606\n",
       "Name: Fatal (Y/N), dtype: int64"
      ]
     },
     "metadata": {},
     "output_type": "display_data"
    }
   ],
   "source": [
    "# CHECKING THE AMOUNT PER \"FATAL (Y/N)\"\n",
    "\n",
    "display(sharky['Fatal (Y/N)'].value_counts())"
   ]
  },
  {
   "cell_type": "code",
   "execution_count": 37,
   "id": "88e2e146",
   "metadata": {},
   "outputs": [],
   "source": [
    "# MAKING A LIST UNIQUE FOR \"TIME\"\n",
    "\n",
    "time = list(sharky['Time'].unique())"
   ]
  },
  {
   "cell_type": "code",
   "execution_count": 73,
   "id": "ff9b95a5",
   "metadata": {},
   "outputs": [],
   "source": [
    "# CHECKING THE AMOUNT PER \"TIME\"\n",
    "\n",
    "# display(sharky.Time.value_counts())"
   ]
  },
  {
   "cell_type": "code",
   "execution_count": 74,
   "id": "04261127",
   "metadata": {},
   "outputs": [],
   "source": [
    "# CHECKING VALUES AND SYNTAX FOR \"TIME\"\n",
    "\n",
    "# print(time)"
   ]
  },
  {
   "cell_type": "code",
   "execution_count": 40,
   "id": "9a3d6e75",
   "metadata": {},
   "outputs": [],
   "source": [
    "# MAKING A LIST UNIQUE FOR \"SPECIES\"\n",
    "\n",
    "species = list(sharky['Species '].unique())"
   ]
  },
  {
   "cell_type": "code",
   "execution_count": 75,
   "id": "87169e9d",
   "metadata": {},
   "outputs": [],
   "source": [
    "# CHECKING THE AMOUNT PER \"SPECIES\"\n",
    "\n",
    "# display(sharky['Species '].value_counts())"
   ]
  },
  {
   "cell_type": "code",
   "execution_count": 76,
   "id": "e909eca0",
   "metadata": {},
   "outputs": [],
   "source": [
    "# CHECKING VALUES AND SYNTAX FOR \"SPECIES\"\n",
    "\n",
    "# print(species)"
   ]
  },
  {
   "cell_type": "code",
   "execution_count": 43,
   "id": "5cb2c1eb",
   "metadata": {},
   "outputs": [],
   "source": [
    "# NEED TO APPLY REGEX TO \"ACTIVITIES\"\n",
    "\n",
    "sharky['Activity_merged'] = sharky['Activity'].apply(fc.limpia)"
   ]
  },
  {
   "cell_type": "code",
   "execution_count": 44,
   "id": "97a729a1",
   "metadata": {},
   "outputs": [
    {
     "data": {
      "text/plain": [
       "Unknown     1838\n",
       "Surfing     1590\n",
       "Swimming    1304\n",
       "Fishing     1175\n",
       "Diving       323\n",
       "Boating       62\n",
       "Name: Activity_merged, dtype: int64"
      ]
     },
     "metadata": {},
     "output_type": "display_data"
    }
   ],
   "source": [
    "display(sharky['Activity_merged'].value_counts())"
   ]
  },
  {
   "cell_type": "code",
   "execution_count": 45,
   "id": "292fb787",
   "metadata": {},
   "outputs": [],
   "source": [
    "# NEED TO APPLY REGEX TO \"ACTIVITIES\"\n",
    "\n",
    "sharky['Species_merged'] = sharky['Species '].apply(fc.specie)"
   ]
  },
  {
   "cell_type": "code",
   "execution_count": 46,
   "id": "ee1061c5",
   "metadata": {},
   "outputs": [
    {
     "data": {
      "text/plain": [
       "Unknown                4911\n",
       "White shark             668\n",
       "Tiger shark             287\n",
       "Bull shark              178\n",
       "Whitetip shark          108\n",
       "Shortfin Mako Shark      59\n",
       "Hammerhead Shark         48\n",
       "Sand Tiger Shark         18\n",
       "Blacktip Shark           15\n",
       "Name: Species_merged, dtype: int64"
      ]
     },
     "metadata": {},
     "output_type": "display_data"
    }
   ],
   "source": [
    "display(sharky['Species_merged'].value_counts())"
   ]
  },
  {
   "cell_type": "code",
   "execution_count": 77,
   "id": "e277ac85",
   "metadata": {},
   "outputs": [
    {
     "data": {
      "text/html": [
       "<div>\n",
       "<style scoped>\n",
       "    .dataframe tbody tr th:only-of-type {\n",
       "        vertical-align: middle;\n",
       "    }\n",
       "\n",
       "    .dataframe tbody tr th {\n",
       "        vertical-align: top;\n",
       "    }\n",
       "\n",
       "    .dataframe thead th {\n",
       "        text-align: right;\n",
       "    }\n",
       "</style>\n",
       "<table border=\"1\" class=\"dataframe\">\n",
       "  <thead>\n",
       "    <tr style=\"text-align: right;\">\n",
       "      <th></th>\n",
       "      <th>Country</th>\n",
       "      <th>Activity</th>\n",
       "      <th>Fatal (Y/N)</th>\n",
       "      <th>Time</th>\n",
       "      <th>Species</th>\n",
       "      <th>Activity_merged</th>\n",
       "      <th>Species_merged</th>\n",
       "      <th>Time_merged</th>\n",
       "    </tr>\n",
       "  </thead>\n",
       "  <tbody>\n",
       "    <tr>\n",
       "      <th>0</th>\n",
       "      <td>USA</td>\n",
       "      <td>Paddling</td>\n",
       "      <td>N</td>\n",
       "      <td>18h00</td>\n",
       "      <td>White shark</td>\n",
       "      <td>Surfing</td>\n",
       "      <td>White shark</td>\n",
       "      <td>Afternoon</td>\n",
       "    </tr>\n",
       "    <tr>\n",
       "      <th>1</th>\n",
       "      <td>USA</td>\n",
       "      <td>Standing</td>\n",
       "      <td>N</td>\n",
       "      <td>14h00  -15h00</td>\n",
       "      <td>UNKNOWN</td>\n",
       "      <td>Unknown</td>\n",
       "      <td>Unknown</td>\n",
       "      <td>Noon</td>\n",
       "    </tr>\n",
       "    <tr>\n",
       "      <th>2</th>\n",
       "      <td>USA</td>\n",
       "      <td>Surfing</td>\n",
       "      <td>N</td>\n",
       "      <td>07h45</td>\n",
       "      <td>UNKNOWN</td>\n",
       "      <td>Surfing</td>\n",
       "      <td>Unknown</td>\n",
       "      <td>Sunrise</td>\n",
       "    </tr>\n",
       "  </tbody>\n",
       "</table>\n",
       "</div>"
      ],
      "text/plain": [
       "  Country  Activity Fatal (Y/N)           Time     Species  Activity_merged  \\\n",
       "0     USA  Paddling           N          18h00  White shark         Surfing   \n",
       "1     USA  Standing           N  14h00  -15h00      UNKNOWN         Unknown   \n",
       "2     USA   Surfing           N          07h45      UNKNOWN         Surfing   \n",
       "\n",
       "  Species_merged Time_merged  \n",
       "0    White shark   Afternoon  \n",
       "1        Unknown        Noon  \n",
       "2        Unknown     Sunrise  "
      ]
     },
     "metadata": {},
     "output_type": "display_data"
    }
   ],
   "source": [
    "display(sharky.head(3))"
   ]
  },
  {
   "cell_type": "code",
   "execution_count": 48,
   "id": "ef6df150",
   "metadata": {},
   "outputs": [],
   "source": [
    "# NEED TO APPLY REGEX TO \"TIME\"\n",
    "\n",
    "sharky['Time_merged'] = sharky['Time'].apply(fc.hour)"
   ]
  },
  {
   "cell_type": "code",
   "execution_count": 78,
   "id": "13771218",
   "metadata": {},
   "outputs": [
    {
     "data": {
      "text/html": [
       "<div>\n",
       "<style scoped>\n",
       "    .dataframe tbody tr th:only-of-type {\n",
       "        vertical-align: middle;\n",
       "    }\n",
       "\n",
       "    .dataframe tbody tr th {\n",
       "        vertical-align: top;\n",
       "    }\n",
       "\n",
       "    .dataframe thead th {\n",
       "        text-align: right;\n",
       "    }\n",
       "</style>\n",
       "<table border=\"1\" class=\"dataframe\">\n",
       "  <thead>\n",
       "    <tr style=\"text-align: right;\">\n",
       "      <th></th>\n",
       "      <th>Country</th>\n",
       "      <th>Activity</th>\n",
       "      <th>Fatal (Y/N)</th>\n",
       "      <th>Time</th>\n",
       "      <th>Species</th>\n",
       "      <th>Activity_merged</th>\n",
       "      <th>Species_merged</th>\n",
       "      <th>Time_merged</th>\n",
       "    </tr>\n",
       "  </thead>\n",
       "  <tbody>\n",
       "    <tr>\n",
       "      <th>0</th>\n",
       "      <td>USA</td>\n",
       "      <td>Paddling</td>\n",
       "      <td>N</td>\n",
       "      <td>18h00</td>\n",
       "      <td>White shark</td>\n",
       "      <td>Surfing</td>\n",
       "      <td>White shark</td>\n",
       "      <td>Afternoon</td>\n",
       "    </tr>\n",
       "    <tr>\n",
       "      <th>1</th>\n",
       "      <td>USA</td>\n",
       "      <td>Standing</td>\n",
       "      <td>N</td>\n",
       "      <td>14h00  -15h00</td>\n",
       "      <td>UNKNOWN</td>\n",
       "      <td>Unknown</td>\n",
       "      <td>Unknown</td>\n",
       "      <td>Noon</td>\n",
       "    </tr>\n",
       "    <tr>\n",
       "      <th>2</th>\n",
       "      <td>USA</td>\n",
       "      <td>Surfing</td>\n",
       "      <td>N</td>\n",
       "      <td>07h45</td>\n",
       "      <td>UNKNOWN</td>\n",
       "      <td>Surfing</td>\n",
       "      <td>Unknown</td>\n",
       "      <td>Sunrise</td>\n",
       "    </tr>\n",
       "  </tbody>\n",
       "</table>\n",
       "</div>"
      ],
      "text/plain": [
       "  Country  Activity Fatal (Y/N)           Time     Species  Activity_merged  \\\n",
       "0     USA  Paddling           N          18h00  White shark         Surfing   \n",
       "1     USA  Standing           N  14h00  -15h00      UNKNOWN         Unknown   \n",
       "2     USA   Surfing           N          07h45      UNKNOWN         Surfing   \n",
       "\n",
       "  Species_merged Time_merged  \n",
       "0    White shark   Afternoon  \n",
       "1        Unknown        Noon  \n",
       "2        Unknown     Sunrise  "
      ]
     },
     "metadata": {},
     "output_type": "display_data"
    }
   ],
   "source": [
    "display(sharky.head(3))"
   ]
  },
  {
   "cell_type": "code",
   "execution_count": 50,
   "id": "ce555fa3",
   "metadata": {},
   "outputs": [],
   "source": [
    "sharky['Time_merged'].replace({\n",
    "    'UNKNOWN':'Unknown',\n",
    "    'Early afternoon':'Unknown',\n",
    "    'Midnight':'Night',\n",
    "    'After noon':'Afternoon',\n",
    "    'Midday.': 'Noon',\n",
    "    'Just before noon':'Noon',\n",
    "    'Lunchtime':'Noon',\n",
    "    'Midday':'Noon',\n",
    "    'Morning ':'Morning',\n",
    "    'Sometime between 06h00 & 08hoo':'Unknown',\n",
    "    '9h00':'Morning',\n",
    "    '\"shortly before dusk\"':'Unknown',\n",
    "    'Late afternoon':'Afternoon',\n",
    "    '2017':'UNKNOWN',\n",
    "    'Midday':'Noon',\n",
    "    'Shortly before 12h00':'Noon',\n",
    "    'Early morning':'Sunrise',\n",
    "    'Dawn':'Unknown',\n",
    "    'AM':'Unknown',\n",
    "    'A.M.':'Unknown',\n",
    "    'Dusk':'Unknown',\n",
    "    'Luchtime':'Afternoon',\n",
    "    'Before 07h00':'Evening',\n",
    "    '\"Just before 11h00\"':'Noon',\n",
    "    'Sunset':'Evening',\n",
    "    '  ':'Unknown',\n",
    "    '\"Evening\"':'Evening',\n",
    "    'Just before sundown':'Unknown',\n",
    "    'Between 05h00 and 08h00':'Sunrise',\n",
    "    '>08h00':'Noon',\n",
    "    '--':'Unknown',\n",
    "    'Just after 12h00':'Morning',\n",
    "    ' ':'Unknown',\n",
    "    'Early Morning':'Sunrise',\n",
    "    'Shortly after midnight':'Evening',\n",
    "    '\\xa0 ':'Unknown',\n",
    "    'Late morning':'Morning',\n",
    "    'P.M.':'Unknown',\n",
    "    'Shortly before 13h00':'Noon',\n",
    "    '8:04 pm':'Morning',\n",
    "    'Possibly same incident as 2000.08.21':'Unknown',\n",
    "    'After Dusk':'Unknown',\n",
    "    '2 hours after Opperman':'Unknown',\n",
    "    'Mid afternoon':'Afternoon',\n",
    "    'Mid morning':'Morning',\n",
    "    '\"Night\"':'Night',\n",
    "    '30 minutes after 1992.07.08.a':'Unknown',\n",
    "    '>06h45':'Sunrise',\n",
    "    'Between 06h00 & 07h20':'Sunrise',\n",
    "    '<07h30':'Sunrise',\n",
    "    'Nightfall':'Night',\n",
    "    'X':'Unknown',\n",
    "    'Prior to 10h37':'Unknown',\n",
    "    'Daybreak':'Unknown',\n",
    "    '>12h00':'Noon',\n",
    "    'Mid-morning':'Morning',\n",
    "    'Just before dawn':'Unknown',\n",
    "    ' 14h00':'Noon',\n",
    "    'Daytime':'Unknown',\n",
    "    'Dark':'Night',\n",
    "    '\"After lunch\"':'Afternoon',\n",
    "    '>17h00':'Afternoon',\n",
    "    'night':'Night',\n",
    "    'Late night':'Sunrise',\n",
    "    'Midday':'Noon',\n",
    "    '\"After dark\"':'Night',\n",
    "    '2 hrs before sunset':'Evening',\n",
    "    'shortly before dusk':'Unknown',\n",
    "    '>17h30':'Afternoon',\n",
    "    '>14h30':'Noon',\n",
    "    'Between 11h00 & 12h00':'Morning',\n",
    "    'After 04h00':'Sunrise',\n",
    "    'Ship aban-doned at 03h10':'Unknown',\n",
    "    'After dusk':'Unknown',\n",
    "    'FATAL  (Wire netting installed at local beaches after this incident.)':'Unknown',\n",
    "    'After midnight':'Night',\n",
    "    'Late afternon':'Evening',\n",
    "    '\"Early evening\"':'Evening',\n",
    "    'Late Afternoon':'Afternoon',\n",
    "    '   ':'Unknown',\n",
    "    'Before daybreak':'Unknown',\n",
    "    'dusk':'Unknown',\n",
    "    'Before 10h30':'Morning'\n",
    "},inplace=True)"
   ]
  },
  {
   "cell_type": "code",
   "execution_count": 51,
   "id": "8cf15b3e",
   "metadata": {},
   "outputs": [
    {
     "data": {
      "text/plain": [
       "Unknown      3422\n",
       "Noon          897\n",
       "Afternoon     852\n",
       "Morning       781\n",
       "Sunrise       151\n",
       "Night          96\n",
       "Evening        93\n",
       "Name: Time_merged, dtype: int64"
      ]
     },
     "metadata": {},
     "output_type": "display_data"
    }
   ],
   "source": [
    "display(sharky['Time_merged'].value_counts())"
   ]
  },
  {
   "cell_type": "code",
   "execution_count": 52,
   "id": "b6300df0",
   "metadata": {},
   "outputs": [],
   "source": [
    "hour = list(sharky['Time_merged'].unique())"
   ]
  },
  {
   "cell_type": "code",
   "execution_count": 54,
   "id": "0769aa29",
   "metadata": {},
   "outputs": [
    {
     "name": "stdout",
     "output_type": "stream",
     "text": [
      "['Afternoon', 'Noon', 'Sunrise', 'Unknown', 'Morning', 'Evening', 'Night']\n"
     ]
    }
   ],
   "source": [
    "# EVERYTHING MERGE INTO CATEGORIES\n",
    "\n",
    "print(hour)"
   ]
  },
  {
   "cell_type": "code",
   "execution_count": 55,
   "id": "491728ea",
   "metadata": {},
   "outputs": [],
   "source": [
    "act = list(sharky['Activity_merged'].unique())"
   ]
  },
  {
   "cell_type": "code",
   "execution_count": 56,
   "id": "a5fb2d7d",
   "metadata": {},
   "outputs": [
    {
     "name": "stdout",
     "output_type": "stream",
     "text": [
      "['Surfing', 'Unknown', 'Diving', 'Swimming', 'Fishing', 'Boating']\n"
     ]
    }
   ],
   "source": [
    "# EVERYTHING MERGE INTO CATEGORIES\n",
    "\n",
    "print(act)"
   ]
  },
  {
   "cell_type": "code",
   "execution_count": 57,
   "id": "0cb03405",
   "metadata": {},
   "outputs": [],
   "source": [
    "coun = list(sharky['Country'].unique())"
   ]
  },
  {
   "cell_type": "code",
   "execution_count": 79,
   "id": "5495802c",
   "metadata": {},
   "outputs": [],
   "source": [
    "# EVERYTHING MERGE INTO CATEGORIES\n",
    "\n",
    "# print(coun)"
   ]
  },
  {
   "cell_type": "code",
   "execution_count": 59,
   "id": "23d0a439",
   "metadata": {},
   "outputs": [],
   "source": [
    "sharky.to_csv('data/shark_attack_clean.csv')"
   ]
  },
  {
   "cell_type": "code",
   "execution_count": 80,
   "id": "ae10cccc",
   "metadata": {},
   "outputs": [
    {
     "data": {
      "text/html": [
       "<div>\n",
       "<style scoped>\n",
       "    .dataframe tbody tr th:only-of-type {\n",
       "        vertical-align: middle;\n",
       "    }\n",
       "\n",
       "    .dataframe tbody tr th {\n",
       "        vertical-align: top;\n",
       "    }\n",
       "\n",
       "    .dataframe thead th {\n",
       "        text-align: right;\n",
       "    }\n",
       "</style>\n",
       "<table border=\"1\" class=\"dataframe\">\n",
       "  <thead>\n",
       "    <tr style=\"text-align: right;\">\n",
       "      <th></th>\n",
       "      <th>Country</th>\n",
       "      <th>Activity</th>\n",
       "      <th>Fatal (Y/N)</th>\n",
       "      <th>Time</th>\n",
       "      <th>Species</th>\n",
       "      <th>Activity_merged</th>\n",
       "      <th>Species_merged</th>\n",
       "      <th>Time_merged</th>\n",
       "    </tr>\n",
       "  </thead>\n",
       "  <tbody>\n",
       "    <tr>\n",
       "      <th>0</th>\n",
       "      <td>USA</td>\n",
       "      <td>Paddling</td>\n",
       "      <td>N</td>\n",
       "      <td>18h00</td>\n",
       "      <td>White shark</td>\n",
       "      <td>Surfing</td>\n",
       "      <td>White shark</td>\n",
       "      <td>Afternoon</td>\n",
       "    </tr>\n",
       "    <tr>\n",
       "      <th>1</th>\n",
       "      <td>USA</td>\n",
       "      <td>Standing</td>\n",
       "      <td>N</td>\n",
       "      <td>14h00  -15h00</td>\n",
       "      <td>UNKNOWN</td>\n",
       "      <td>Unknown</td>\n",
       "      <td>Unknown</td>\n",
       "      <td>Noon</td>\n",
       "    </tr>\n",
       "    <tr>\n",
       "      <th>2</th>\n",
       "      <td>USA</td>\n",
       "      <td>Surfing</td>\n",
       "      <td>N</td>\n",
       "      <td>07h45</td>\n",
       "      <td>UNKNOWN</td>\n",
       "      <td>Surfing</td>\n",
       "      <td>Unknown</td>\n",
       "      <td>Sunrise</td>\n",
       "    </tr>\n",
       "  </tbody>\n",
       "</table>\n",
       "</div>"
      ],
      "text/plain": [
       "  Country  Activity Fatal (Y/N)           Time     Species  Activity_merged  \\\n",
       "0     USA  Paddling           N          18h00  White shark         Surfing   \n",
       "1     USA  Standing           N  14h00  -15h00      UNKNOWN         Unknown   \n",
       "2     USA   Surfing           N          07h45      UNKNOWN         Surfing   \n",
       "\n",
       "  Species_merged Time_merged  \n",
       "0    White shark   Afternoon  \n",
       "1        Unknown        Noon  \n",
       "2        Unknown     Sunrise  "
      ]
     },
     "metadata": {},
     "output_type": "display_data"
    }
   ],
   "source": [
    "display(sharky.head(3))"
   ]
  },
  {
   "cell_type": "code",
   "execution_count": null,
   "id": "86dbfba1",
   "metadata": {},
   "outputs": [],
   "source": []
  }
 ],
 "metadata": {
  "kernelspec": {
   "display_name": "ironhack",
   "language": "python",
   "name": "ironhack"
  },
  "language_info": {
   "codemirror_mode": {
    "name": "ipython",
    "version": 3
   },
   "file_extension": ".py",
   "mimetype": "text/x-python",
   "name": "python",
   "nbconvert_exporter": "python",
   "pygments_lexer": "ipython3",
   "version": "3.8.12"
  }
 },
 "nbformat": 4,
 "nbformat_minor": 5
}
